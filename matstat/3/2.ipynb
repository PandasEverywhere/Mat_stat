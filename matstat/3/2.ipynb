{
 "cells": [
  {
   "cell_type": "code",
   "execution_count": 10,
   "metadata": {
    "collapsed": true
   },
   "outputs": [],
   "source": [
    "import matplotlib.pyplot as plt\n",
    "import matplotlib.pyplot as plt\n",
    "import pandas as pd\n",
    "import numpy as np\n",
    "from pylab import *"
   ]
  },
  {
   "cell_type": "code",
   "execution_count": 11,
   "metadata": {
    "collapsed": false
   },
   "outputs": [],
   "source": [
    "all_data = pd.read_csv('Cauchy.csv', header = None)\n",
    "all_data.columns = ['y']"
   ]
  },
  {
   "cell_type": "code",
   "execution_count": 12,
   "metadata": {
    "collapsed": true
   },
   "outputs": [],
   "source": [
    "# Функция правдоподобия\n",
    "# Само значение функции нас не интересует,\n",
    "# Поэтому не будем учитывать pi. Чтобы влезло в тип, возьмем экспоненту.\n",
    "# pi = 3.141592\n",
    "def foo(a, x_0):\n",
    "    #a =  np.log((a - x_0) ** 2)\n",
    "    a = np.exp(1 / ((1 + (a - x_0)** 2)))\n",
    "    return a.prod()"
   ]
  },
  {
   "cell_type": "code",
   "execution_count": 13,
   "metadata": {
    "collapsed": false
   },
   "outputs": [],
   "source": [
    "# Проход с шагом 0.01\n",
    "bins = np.linspace(-1000, 1000, 200000)"
   ]
  },
  {
   "cell_type": "code",
   "execution_count": 14,
   "metadata": {
    "collapsed": false
   },
   "outputs": [
    {
     "name": "stdout",
     "output_type": "stream",
     "text": [
      "-786.018930095\n"
     ]
    }
   ],
   "source": [
    "# Оценка по первым 500 элементам\n",
    "a = np.array(all_data.y)\n",
    "a = a[:500]\n",
    "max_val = -1000000\n",
    "x_0 = -1005\n",
    "for i in bins:\n",
    "    tmp = foo(a, i)\n",
    "    if tmp > max_val:\n",
    "        x_0 = i\n",
    "        max_val = tmp\n",
    "print x_0"
   ]
  },
  {
   "cell_type": "code",
   "execution_count": 15,
   "metadata": {
    "collapsed": false
   },
   "outputs": [
    {
     "name": "stdout",
     "output_type": "stream",
     "text": [
      "-786.008930045\n"
     ]
    }
   ],
   "source": [
    "a = np.array(all_data.y)\n",
    "max_val = -1000000\n",
    "x_0 = -1005\n",
    "for i in bins:\n",
    "    tmp = foo(a, i)\n",
    "    if tmp > max_val:\n",
    "        x_0 = i\n",
    "        max_val = tmp\n",
    "    \n",
    "print x_0"
   ]
  },
  {
   "cell_type": "markdown",
   "metadata": {},
   "source": [
    "# Вывод"
   ]
  },
  {
   "cell_type": "markdown",
   "metadata": {},
   "source": [
    "Смещение получилось равным -786.008930045,что согласуется с графиком:"
   ]
  },
  {
   "cell_type": "code",
   "execution_count": 16,
   "metadata": {
    "collapsed": false
   },
   "outputs": [
    {
     "name": "stdout",
     "output_type": "stream",
     "text": [
      "Populating the interactive namespace from numpy and matplotlib\n"
     ]
    },
    {
     "name": "stderr",
     "output_type": "stream",
     "text": [
      "/home/fartuk/anaconda2/lib/python2.7/site-packages/IPython/core/magics/pylab.py:161: UserWarning: pylab import has clobbered these variables: ['info', 'linalg', 'draw_if_interactive', 'random', 'fft', 'power']\n",
      "`%matplotlib` prevents importing * from pylab and numpy\n",
      "  \"\\n`%matplotlib` prevents importing * from pylab and numpy\"\n"
     ]
    },
    {
     "data": {
      "image/png": "[encoded data removed]",
      "text/plain": [
       "<matplotlib.figure.Figure at 0x7fbaa825ae90>"
      ]
     },
     "metadata": {},
     "output_type": "display_data"
    }
   ],
   "source": [
    "import matplotlib.pyplot as plt\n",
    "%matplotlib inline\n",
    "%pylab inline\n",
    "pylab.figure(figsize=(10, 6))\n",
    "plt.hist(all_data.y, bins=200)\n",
    "plt.show()"
   ]
  },
  {
   "cell_type": "code",
   "execution_count": null,
   "metadata": {
    "collapsed": true
   },
   "outputs": [],
   "source": []
  }
 ],
 "metadata": {
  "anaconda-cloud": {},
  "kernelspec": {
   "display_name": "Python [conda root]",
   "language": "python",
   "name": "conda-root-py"
  },
  "language_info": {
   "codemirror_mode": {
    "name": "ipython",
    "version": 2
   },
   "file_extension": ".py",
   "mimetype": "text/x-python",
   "name": "python",
   "nbconvert_exporter": "python",
   "pygments_lexer": "ipython2",
   "version": "2.7.12"
  }
 },
 "nbformat": 4,
 "nbformat_minor": 1
}
