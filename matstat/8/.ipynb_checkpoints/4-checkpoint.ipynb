{
 "cells": [
  {
   "cell_type": "code",
   "execution_count": 3,
   "metadata": {
    "collapsed": true
   },
   "outputs": [],
   "source": [
    "import matplotlib.pyplot as plt\n",
    "import matplotlib.pyplot as plt\n",
    "import pandas as pd\n",
    "import numpy as np\n",
    "from pylab import *\n",
    "from scipy.stats import *\n",
    "from sklearn.metrics import mean_squared_error as msq\n",
    "from sklearn.preprocessing import StandardScaler, MinMaxScaler\n",
    "from sklearn.model_selection import ShuffleSplit\n",
    "from sklearn.model_selection import train_test_split\n",
    "from sklearn.linear_model import LinearRegression"
   ]
  },
  {
   "cell_type": "code",
   "execution_count": 4,
   "metadata": {
    "collapsed": true
   },
   "outputs": [],
   "source": [
    "# Считывание данных.\n",
    "data = pd.read_csv(\"../6/6.csv.xls\", header=None)\n",
    "data.columns = ['y']\n",
    "lamb = 105\n",
    "t_0 = 500\n",
    "t = 110000"
   ]
  },
  {
   "cell_type": "code",
   "execution_count": 20,
   "metadata": {
    "collapsed": false
   },
   "outputs": [
    {
     "data": {
      "text/html": [
       "<div>\n",
       "<table border=\"1\" class=\"dataframe\">\n",
       "  <thead>\n",
       "    <tr style=\"text-align: right;\">\n",
       "      <th></th>\n",
       "      <th>y</th>\n",
       "    </tr>\n",
       "  </thead>\n",
       "  <tbody>\n",
       "    <tr>\n",
       "      <th>0</th>\n",
       "      <td>0.0000</td>\n",
       "    </tr>\n",
       "    <tr>\n",
       "      <th>1</th>\n",
       "      <td>198.4406</td>\n",
       "    </tr>\n",
       "    <tr>\n",
       "      <th>2</th>\n",
       "      <td>460.8092</td>\n",
       "    </tr>\n",
       "    <tr>\n",
       "      <th>3</th>\n",
       "      <td>494.1672</td>\n",
       "    </tr>\n",
       "    <tr>\n",
       "      <th>4</th>\n",
       "      <td>517.8483</td>\n",
       "    </tr>\n",
       "  </tbody>\n",
       "</table>\n",
       "</div>"
      ],
      "text/plain": [
       "          y\n",
       "0    0.0000\n",
       "1  198.4406\n",
       "2  460.8092\n",
       "3  494.1672\n",
       "4  517.8483"
      ]
     },
     "execution_count": 20,
     "metadata": {},
     "output_type": "execute_result"
    }
   ],
   "source": [
    "data[:5]"
   ]
  },
  {
   "cell_type": "code",
   "execution_count": 56,
   "metadata": {
    "collapsed": true
   },
   "outputs": [],
   "source": [
    "# Сопряженное распределение - гамма\n",
    "def bayes(sample, x1, x2):\n",
    "    return (x1 + len(sample)) * 1.0 / (x2 + sum(sample))"
   ]
  },
  {
   "cell_type": "code",
   "execution_count": 6,
   "metadata": {
    "collapsed": true
   },
   "outputs": [],
   "source": [
    "# Посчитаем разности времен выхода из строя соседних\n",
    "samples = []\n",
    "for i in range(len(data)-1):\n",
    "    samples += [data.ix[i+1] - data.ix[i]]\n",
    "s = []\n",
    "for i in samples:\n",
    "    s += [float(i)]"
   ]
  },
  {
   "cell_type": "code",
   "execution_count": 57,
   "metadata": {
    "collapsed": false
   },
   "outputs": [],
   "source": [
    "# Реальное значение параметра\n",
    "real_lamb = 1.0 / lamb"
   ]
  },
  {
   "cell_type": "code",
   "execution_count": 58,
   "metadata": {
    "collapsed": false
   },
   "outputs": [],
   "source": [
    "# Подбор параметров сопряженного распределения\n",
    "best_x1 = 0\n",
    "best_x2 = 0\n",
    "best = 1000\n",
    "for i in range(1, 100):\n",
    "    for j in range(1, 100):\n",
    "        tmp = abs(bayes(s, i, j)- real_lamb)\n",
    "        if tmp < best:\n",
    "            best = tmp\n",
    "            best_x1 = i\n",
    "            best_x2 = j\n",
    "        "
   ]
  },
  {
   "cell_type": "code",
   "execution_count": 53,
   "metadata": {
    "collapsed": false
   },
   "outputs": [],
   "source": [
    "# Оценки числа сломанных серверов\n",
    "time = []\n",
    "arr = []\n",
    "for i in range(t/t_0):\n",
    "    time += [i * t_0]\n",
    "    arr += [len(data[data.y < i * t_0]) + (t - i * t_0) * bayes(s[:len(data[data.y < i * t_0])], best_x1, best_x2)]"
   ]
  },
  {
   "cell_type": "code",
   "execution_count": 54,
   "metadata": {
    "collapsed": false
   },
   "outputs": [
    {
     "data": {
      "image/png": "[encoded data removed]",
      "text/plain": [
       "<matplotlib.figure.Figure at 0x7f2b998df250>"
      ]
     },
     "metadata": {},
     "output_type": "display_data"
    }
   ],
   "source": [
    "plt.plot(time, arr)\n",
    "plt.show()"
   ]
  },
  {
   "cell_type": "code",
   "execution_count": 59,
   "metadata": {
    "collapsed": false
   },
   "outputs": [
    {
     "name": "stdout",
     "output_type": "stream",
     "text": [
      "1111.11111111\n",
      "891.576410602\n",
      "787.896757887\n",
      "982.274335233\n",
      "1028.33442759\n",
      "1009.80553035\n",
      "992.081166515\n",
      "881.780054869\n",
      "952.191037073\n",
      "1000.70673726\n",
      "961.907328144\n",
      "961.649105785\n",
      "1020.86628345\n",
      "1036.92445849\n",
      "1018.17211769\n",
      "1050.3352065\n",
      "1033.1763517\n",
      "1099.28292556\n",
      "1073.24075711\n",
      "1033.64048472\n",
      "1021.95553616\n",
      "1008.80924161\n",
      "995.595716611\n",
      "1026.70550292\n",
      "1015.64617986\n",
      "1002.79449281\n",
      "1010.22961914\n",
      "1019.10039995\n",
      "1025.03863546\n",
      "1016.15440738\n",
      "1030.01302999\n",
      "1020.72895877\n",
      "1017.28760708\n",
      "1009.63803362\n",
      "1020.65475675\n",
      "1017.83749828\n",
      "1022.09811773\n",
      "1014.14488277\n",
      "1015.85260642\n",
      "1036.26740111\n",
      "1039.37115134\n",
      "1031.06356414\n",
      "1038.5103225\n",
      "1030.86103394\n",
      "1035.06110154\n",
      "1031.57233863\n",
      "1036.65105407\n",
      "1045.5960727\n",
      "1037.25524292\n",
      "1041.6512329\n",
      "1049.44921388\n",
      "1052.27631847\n",
      "1048.98449557\n",
      "1040.47348279\n",
      "1046.02713588\n",
      "1062.51164817\n",
      "1063.91729752\n",
      "1054.79851513\n",
      "1052.29386312\n",
      "1064.29710103\n",
      "1055.0064836\n",
      "1048.66301498\n",
      "1050.45870286\n",
      "1046.27632638\n",
      "1043.67600251\n",
      "1041.71084711\n",
      "1049.30803097\n",
      "1061.56369053\n",
      "1073.03652158\n",
      "1074.85996629\n",
      "1075.34587449\n",
      "1071.40517765\n",
      "1074.75714969\n",
      "1070.7529879\n",
      "1068.89303202\n",
      "1078.72263581\n",
      "1089.82153264\n",
      "1088.90202935\n",
      "1088.49076227\n",
      "1087.91868032\n",
      "1091.23078\n",
      "1089.44328397\n",
      "1087.42294943\n",
      "1090.69454153\n",
      "1095.83579521\n",
      "1090.67381457\n",
      "1094.31120024\n",
      "1096.53415904\n",
      "1101.99681161\n",
      "1100.57596218\n",
      "1094.24698469\n",
      "1099.15987144\n",
      "1098.55928006\n",
      "1099.90377393\n",
      "1105.32946306\n",
      "1104.568881\n",
      "1099.6771143\n",
      "1095.07625715\n",
      "1095.01043636\n",
      "1097.16582365\n",
      "1095.51911739\n",
      "1099.42241052\n",
      "1091.4082678\n",
      "1087.83453759\n",
      "1091.19213304\n",
      "1101.10084999\n",
      "1108.79393093\n",
      "1107.99549586\n",
      "1107.8996152\n",
      "1110.05262914\n",
      "1112.18810248\n",
      "1105.53000195\n",
      "1103.02630672\n",
      "1103.4711465\n",
      "1099.59963566\n",
      "1096.011129\n",
      "1103.17034332\n",
      "1106.73711819\n",
      "1104.92334946\n",
      "1102.31164462\n",
      "1099.80256801\n",
      "1101.06375312\n",
      "1103.09722737\n",
      "1108.16877426\n",
      "1102.82557752\n",
      "1102.90928456\n",
      "1099.63535903\n",
      "1098.878169\n",
      "1101.10196777\n",
      "1101.63531337\n",
      "1102.74101409\n",
      "1099.5716112\n",
      "1100.39500744\n",
      "1096.62376744\n",
      "1099.40902183\n",
      "1093.79844327\n",
      "1094.70323474\n",
      "1088.06042182\n",
      "1088.43472615\n",
      "1090.22491144\n",
      "1086.53802806\n",
      "1085.65698485\n",
      "1084.20028892\n",
      "1087.34949307\n",
      "1089.63860672\n",
      "1084.69095239\n",
      "1081.63757136\n",
      "1077.77656214\n",
      "1075.4674646\n",
      "1071.89951879\n",
      "1073.29649154\n",
      "1077.8006695\n",
      "1078.16745979\n",
      "1083.17183178\n",
      "1081.9359309\n",
      "1079.81151824\n",
      "1079.65193109\n",
      "1077.59080856\n",
      "1074.57998525\n",
      "1076.48011156\n",
      "1077.82654704\n",
      "1078.09570295\n",
      "1076.61458724\n",
      "1073.7044854\n",
      "1073.13251095\n",
      "1071.46059353\n",
      "1069.50466689\n",
      "1067.01410157\n",
      "1067.23034648\n",
      "1064.432343\n",
      "1062.26630278\n",
      "1060.90082124\n",
      "1056.48767927\n",
      "1055.20208856\n",
      "1058.14071148\n",
      "1064.77640791\n",
      "1064.53795293\n",
      "1065.91019202\n",
      "1061.39516727\n",
      "1060.60704407\n",
      "1055.83546168\n",
      "1055.86032947\n",
      "1052.8184027\n",
      "1056.65589507\n",
      "1057.38769222\n",
      "1057.89073251\n",
      "1060.83920228\n",
      "1061.16932208\n",
      "1061.37654875\n",
      "1061.46885682\n",
      "1060.59081914\n",
      "1063.10854928\n",
      "1065.52356212\n",
      "1068.5950353\n",
      "1064.76021937\n",
      "1067.25311908\n",
      "1067.33213586\n",
      "1067.35271478\n",
      "1067.75252311\n",
      "1069.0325654\n",
      "1074.45065402\n",
      "1074.76841141\n",
      "1071.65333894\n",
      "1073.93222011\n",
      "1075.1398348\n",
      "1074.33009922\n",
      "1069.44142594\n",
      "1064.55275265\n",
      "1059.66407937\n",
      "1054.77540609\n",
      "1049.88673281\n",
      "1044.99805953\n",
      "1040.10938625\n",
      "1035.22071297\n",
      "1030.33203969\n",
      "1025.44336641\n",
      "1020.55469312\n",
      "1015.66601984\n",
      "1010.77734656\n",
      "1005.88867328\n"
     ]
    }
   ],
   "source": [
    "for i in arr:\n",
    "    print i"
   ]
  },
  {
   "cell_type": "markdown",
   "metadata": {},
   "source": [
    "# Вывод\n",
    "Сначала в оценке был сильный разброс, что понятно, ведь не было никакой информации. На последних шагах оцценка числа сломанных серверов стала наиболее близкой к реальному знгачению"
   ]
  }
 ],
 "metadata": {
  "kernelspec": {
   "display_name": "Python [conda root]",
   "language": "python",
   "name": "conda-root-py"
  }
 },
 "nbformat": 4,
 "nbformat_minor": 1
}
